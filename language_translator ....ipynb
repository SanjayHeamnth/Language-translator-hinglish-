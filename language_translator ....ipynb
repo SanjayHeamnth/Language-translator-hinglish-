{
 "cells": [
  {
   "cell_type": "code",
   "execution_count": 4,
   "id": "0c6bf6d1",
   "metadata": {},
   "outputs": [],
   "source": [
    "from tkinter import *\n",
    "from googletrans import Translator\n",
    "\n",
    "trans = Tk()\n",
    "trans.geometry('900x320')\n",
    "trans['bg'] = 'black'\n",
    "trans.title('Hinglish Converter by listed')\n",
    "\n",
    "Label(trans, text='Hinglish Converter', font='Roboto 22 bold', bg='black', fg='white').pack()\n",
    "\n",
    "input_label = Label(trans, text='Enter text:', font='arial 12', bg='black', fg='white')\n",
    "input_label.place(x=30, y=100)\n",
    "\n",
    "inp_txt = Entry(trans, width=50)\n",
    "inp_txt.place(x=30, y=130)\n",
    "\n",
    "Label(trans, text='Output', font='arial 15 bold', bg='black', fg='white').place(x=780, y=90)\n",
    "\n",
    "Output_txt = Text(trans, font='arial 14', height=5, wrap=WORD, padx=5, pady=5, width=50)\n",
    "Output_txt.place(x=600, y=130)\n",
    "\n",
    "def ConvertToHinglish():\n",
    "    input_text = inp_txt.get()\n",
    "    hinglish_translation = \"\"\n",
    "\n",
    "    for i, char in enumerate(input_text):\n",
    "        if char.isalpha():\n",
    "            if i % 2 == 0:\n",
    "                hinglish_translation += char  \n",
    "            else:\n",
    "                translator = Translator()\n",
    "                translated = translator.translate(char, src='en', dest='hi')\n",
    "                hinglish_translation += translated.text \n",
    "        else:\n",
    "            hinglish_translation += char\n",
    "\n",
    "    Output_txt.delete(1.0, END)\n",
    "    Output_txt.insert(END, hinglish_translation)\n",
    "\n",
    "convert_btn = Button(trans, text='Convert', font='arial 10 bold', pady=5, command=ConvertToHinglish, bg='blue', fg='white', activebackground='white')\n",
    "convert_btn.place(x=445, y=180)\n",
    "\n",
    "trans.mainloop()\n"
   ]
  },
  {
   "cell_type": "code",
   "execution_count": null,
   "id": "552b1def",
   "metadata": {},
   "outputs": [],
   "source": []
  }
 ],
 "metadata": {
  "kernelspec": {
   "display_name": "Python 3 (ipykernel)",
   "language": "python",
   "name": "python3"
  },
  "language_info": {
   "codemirror_mode": {
    "name": "ipython",
    "version": 3
   },
   "file_extension": ".py",
   "mimetype": "text/x-python",
   "name": "python",
   "nbconvert_exporter": "python",
   "pygments_lexer": "ipython3",
   "version": "3.9.12"
  }
 },
 "nbformat": 4,
 "nbformat_minor": 5
}
